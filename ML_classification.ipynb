{
 "cells": [
  {
   "cell_type": "code",
   "execution_count": 2,
   "metadata": {
    "colab": {
     "base_uri": "https://localhost:8080/",
     "height": 34
    },
    "colab_type": "code",
    "id": "dOm4NORebq9L",
    "outputId": "4752ee36-d0d3-4569-8265-24cb12c2fce0"
   },
   "outputs": [
    {
     "name": "stderr",
     "output_type": "stream",
     "text": [
      "Using TensorFlow backend.\n"
     ]
    }
   ],
   "source": [
    "import warnings\n",
    "warnings.filterwarnings(\"ignore\")\n",
    "import matplotlib.pyplot as plt\n",
    "import numpy as np\n",
    "import pandas as pd\n",
    "from keras.utils import to_categorical\n",
    "import numpy as np\n",
    "from sklearn.tree import DecisionTreeRegressor\n",
    "import matplotlib.pyplot as plt\n",
    "%matplotlib inline\n",
    "from sklearn.model_selection import cross_val_score\n",
    "import math\n",
    "from sklearn.metrics import mean_squared_error\n",
    "import random\n",
    "import itertools\n",
    "import statistics\n",
    "from scipy.stats import pearsonr\n",
    "from sklearn import metrics\n",
    "from sklearn.linear_model import LogisticRegression"
   ]
  },
  {
   "cell_type": "markdown",
   "metadata": {
    "colab_type": "text",
    "id": "f02NkUZ3TPsH"
   },
   "source": [
    "### (c)Data Pre-processing"
   ]
  },
  {
   "cell_type": "code",
   "execution_count": 15,
   "metadata": {
    "colab": {
     "base_uri": "https://localhost:8080/",
     "height": 34
    },
    "colab_type": "code",
    "id": "TfRKIelr6DUk",
    "outputId": "f899f60b-08e5-406b-bc06-f958fa7813cc"
   },
   "outputs": [
    {
     "data": {
      "text/plain": [
       "(1812, 48)"
      ]
     },
     "execution_count": 15,
     "metadata": {},
     "output_type": "execute_result"
    }
   ],
   "source": [
    "#data reading\n",
    "X_raw = np.genfromtxt(\"all_features.csv\", delimiter=\",\")\n",
    "Y_raw = np.genfromtxt('all_classes.csv', delimiter=\",\")\n",
    "X_raw.shape"
   ]
  },
  {
   "cell_type": "code",
   "execution_count": 16,
   "metadata": {},
   "outputs": [
    {
     "data": {
      "text/plain": [
       "(1812,)"
      ]
     },
     "execution_count": 16,
     "metadata": {},
     "output_type": "execute_result"
    }
   ],
   "source": [
    "Y_raw.shape"
   ]
  },
  {
   "cell_type": "code",
   "execution_count": 19,
   "metadata": {},
   "outputs": [
    {
     "data": {
      "text/plain": [
       "array([0., 1., 0., ..., 0., 6., 0.])"
      ]
     },
     "execution_count": 19,
     "metadata": {},
     "output_type": "execute_result"
    }
   ],
   "source": [
    "Y_raw"
   ]
  },
  {
   "cell_type": "markdown",
   "metadata": {
    "colab_type": "text",
    "id": "_yjzhjJ_HKqW"
   },
   "source": [
    "### (e)Splitting data"
   ]
  },
  {
   "cell_type": "code",
   "execution_count": 20,
   "metadata": {
    "colab": {
     "base_uri": "https://localhost:8080/",
     "height": 69
    },
    "colab_type": "code",
    "id": "7EUgCHBfHHUj",
    "outputId": "81624b82-2b67-43b6-9048-ff65c86785ff"
   },
   "outputs": [
    {
     "name": "stdout",
     "output_type": "stream",
     "text": [
      "X_train_shape =  (1449, 48)\n",
      "X_dev_shape =  (182, 48)\n",
      "X_test_shape =  (181, 48)\n"
     ]
    }
   ],
   "source": [
    "from sklearn.model_selection import train_test_split\n",
    "X_train, X_dev_test, Y_train, Y_dev_test = train_test_split(X_raw, Y_raw, test_size=0.2, random_state=3)\n",
    "X_test, X_dev, Y_test, Y_dev = train_test_split(X_dev_test, Y_dev_test, test_size=0.5, random_state=5)\n",
    "print('X_train_shape = ', X_train.shape)\n",
    "print('X_dev_shape = ', X_dev.shape)\n",
    "print('X_test_shape = ', X_test.shape)"
   ]
  },
  {
   "cell_type": "markdown",
   "metadata": {
    "colab_type": "text",
    "id": "soJxEQkiTjte"
   },
   "source": [
    "### (c) Data Pre-processing - Convert to categorical"
   ]
  },
  {
   "cell_type": "code",
   "execution_count": 21,
   "metadata": {
    "colab": {
     "base_uri": "https://localhost:8080/",
     "height": 69
    },
    "colab_type": "code",
    "id": "CKZ118FoGWDl",
    "outputId": "49f658cd-0d1e-4c24-a2eb-b8f575cd9ff6"
   },
   "outputs": [
    {
     "name": "stdout",
     "output_type": "stream",
     "text": [
      "y_train_cat shape =  (1449, 8)\n",
      "y_dev_cat shape =  (182, 8)\n",
      "y_test_cat shape =  (181, 8)\n"
     ]
    }
   ],
   "source": [
    "y_train_cat = to_categorical(Y_train)\n",
    "y_dev_cat = to_categorical(Y_dev)\n",
    "y_test_cat = to_categorical(Y_test)\n",
    "\n",
    "print('y_train_cat shape = ', y_train_cat.shape)\n",
    "print('y_dev_cat shape = ', y_dev_cat.shape)\n",
    "print('y_test_cat shape = ', y_test_cat.shape)"
   ]
  },
  {
   "cell_type": "markdown",
   "metadata": {},
   "source": [
    "### (d) Accuracy function"
   ]
  },
  {
   "cell_type": "code",
   "execution_count": 22,
   "metadata": {
    "colab": {},
    "colab_type": "code",
    "id": "UAPjk9wkYVns"
   },
   "outputs": [],
   "source": [
    "def accuracy(y,Y_pred):\n",
    "  count = 0\n",
    "  for i,val in enumerate(y):\n",
    "    if (val == Y_pred[i]):\n",
    "      count = count + 1\n",
    "  accuracy = count/y.shape[0]\n",
    "  return accuracy"
   ]
  },
  {
   "cell_type": "markdown",
   "metadata": {
    "colab_type": "text",
    "id": "YyV7XyMMW12m"
   },
   "source": [
    "### (b) Problem formulation"
   ]
  },
  {
   "cell_type": "code",
   "execution_count": 23,
   "metadata": {
    "colab": {
     "base_uri": "https://localhost:8080/",
     "height": 381
    },
    "colab_type": "code",
    "id": "N3qw26C6W7J1",
    "outputId": "21a182fa-3387-4d5d-a9f7-e810543aa79f"
   },
   "outputs": [
    {
     "name": "stdout",
     "output_type": "stream",
     "text": [
      "Model: \"sequential_3\"\n",
      "_________________________________________________________________\n",
      "Layer (type)                 Output Shape              Param #   \n",
      "=================================================================\n",
      "first_hidden_layer (Dense)   (None, 50)                2450      \n",
      "_________________________________________________________________\n",
      "second_hidden_layer (Dense)  (None, 100)               5100      \n",
      "_________________________________________________________________\n",
      "third_hidden_layer (Dense)   (None, 100)               10100     \n",
      "_________________________________________________________________\n",
      "forth_hidden_layer (Dense)   (None, 100)               10100     \n",
      "_________________________________________________________________\n",
      "fifth_hidden_layer (Dense)   (None, 100)               10100     \n",
      "_________________________________________________________________\n",
      "dense_3 (Dense)              (None, 8)                 808       \n",
      "=================================================================\n",
      "Total params: 38,658\n",
      "Trainable params: 38,658\n",
      "Non-trainable params: 0\n",
      "_________________________________________________________________\n",
      "None\n"
     ]
    }
   ],
   "source": [
    "import warnings\n",
    "warnings.filterwarnings(\"ignore\")  # Ignore some warning logs\n",
    "\n",
    "\n",
    "from keras.models import Sequential\n",
    "from keras.layers import Dense, Dropout\n",
    "\n",
    "\n",
    "#  Define a Feed-Forward Model with 2 hidden layers with dimensions 392 and 196 Neurons\n",
    "model_1 = Sequential([\n",
    "  Dense(50, activation='relu', input_shape=(48,), name=\"first_hidden_layer\"),\n",
    "  Dense(100, activation='relu', name=\"second_hidden_layer\"), \n",
    "  Dense(100,activation= 'relu',name = \"third_hidden_layer\"),\n",
    "  Dense(100,activation= 'relu',name = \"forth_hidden_layer\"),\n",
    "  Dense(100,activation= 'relu',name = \"fifth_hidden_layer\"),\n",
    "  Dense(8, activation='softmax'),\n",
    "])\n",
    "\n",
    "#  Validate your Model Architecture\n",
    "print(model_1.summary())"
   ]
  },
  {
   "cell_type": "code",
   "execution_count": 24,
   "metadata": {
    "colab": {
     "base_uri": "https://localhost:8080/",
     "height": 1000
    },
    "colab_type": "code",
    "id": "kXBXiEqPXd-y",
    "outputId": "4ba1c20c-89a8-4b62-b8ba-83fa1f1f877c"
   },
   "outputs": [
    {
     "name": "stdout",
     "output_type": "stream",
     "text": [
      "Epoch 1/15\n",
      "1449/1449 [==============================] - 1s 416us/step - loss: 1.8523 - accuracy: 0.5231\n",
      "Epoch 2/15\n",
      "1449/1449 [==============================] - 0s 168us/step - loss: 1.6102 - accuracy: 0.5252\n",
      "Epoch 3/15\n",
      "1449/1449 [==============================] - 0s 168us/step - loss: 1.5836 - accuracy: 0.5252\n",
      "Epoch 4/15\n",
      "1449/1449 [==============================] - 0s 175us/step - loss: 1.5761 - accuracy: 0.5252\n",
      "Epoch 5/15\n",
      "1449/1449 [==============================] - 0s 172us/step - loss: 1.5719 - accuracy: 0.5252\n",
      "Epoch 6/15\n",
      "1449/1449 [==============================] - 0s 190us/step - loss: 1.5693 - accuracy: 0.5252\n",
      "Epoch 7/15\n",
      "1449/1449 [==============================] - 0s 166us/step - loss: 1.5667 - accuracy: 0.5252\n",
      "Epoch 8/15\n",
      "1449/1449 [==============================] - 0s 176us/step - loss: 1.5655 - accuracy: 0.5252\n",
      "Epoch 9/15\n",
      "1449/1449 [==============================] - 0s 158us/step - loss: 1.5640 - accuracy: 0.5252\n",
      "Epoch 10/15\n",
      "1449/1449 [==============================] - 0s 165us/step - loss: 1.5637 - accuracy: 0.5252\n",
      "Epoch 11/15\n",
      "1449/1449 [==============================] - 0s 161us/step - loss: 1.5628 - accuracy: 0.5252\n",
      "Epoch 12/15\n",
      "1449/1449 [==============================] - 0s 156us/step - loss: 1.5620 - accuracy: 0.5252\n",
      "Epoch 13/15\n",
      "1449/1449 [==============================] - 0s 172us/step - loss: 1.5619 - accuracy: 0.5252\n",
      "Epoch 14/15\n",
      "1449/1449 [==============================] - 0s 160us/step - loss: 1.5614 - accuracy: 0.5252\n",
      "Epoch 15/15\n",
      "1449/1449 [==============================] - 0s 190us/step - loss: 1.5618 - accuracy: 0.5252\n"
     ]
    },
    {
     "data": {
      "text/plain": [
       "<keras.callbacks.callbacks.History at 0x218ad027f08>"
      ]
     },
     "execution_count": 24,
     "metadata": {},
     "output_type": "execute_result"
    }
   ],
   "source": [
    "# Compile model\n",
    "model_1.compile(optimizer='sgd', loss='categorical_crossentropy',metrics=['accuracy'],)\n",
    "\n",
    "# Train model\n",
    "model_1.fit(X_train, y_train_cat, epochs=15, batch_size=10,)"
   ]
  },
  {
   "cell_type": "code",
   "execution_count": 25,
   "metadata": {
    "colab": {
     "base_uri": "https://localhost:8080/",
     "height": 86
    },
    "colab_type": "code",
    "id": "HdBrZkeEXezk",
    "outputId": "457acbd8-59d1-4a6f-f73a-ff97d2652a05"
   },
   "outputs": [
    {
     "name": "stdout",
     "output_type": "stream",
     "text": [
      "182/182 [==============================] - 0s 427us/step\n",
      "181/181 [==============================] - 0s 55us/step\n",
      "Accuracy on Val samples: 0.5109890103340149\n",
      "Accuracy on Test samples: 0.4751381278038025\n"
     ]
    }
   ],
   "source": [
    "# Evaluate your model's performance on the test data\n",
    "performance_val = model_1.evaluate(X_dev, y_dev_cat)\n",
    "performance_test = model_1.evaluate(X_test, y_test_cat)\n",
    "print(\"Accuracy on Val samples: {0}\".format(performance_val[1]))\n",
    "print(\"Accuracy on Test samples: {0}\".format(performance_test[1]))\n"
   ]
  },
  {
   "cell_type": "code",
   "execution_count": 26,
   "metadata": {},
   "outputs": [
    {
     "name": "stdout",
     "output_type": "stream",
     "text": [
      "Model: \"sequential_4\"\n",
      "_________________________________________________________________\n",
      "Layer (type)                 Output Shape              Param #   \n",
      "=================================================================\n",
      "first_hidden_layer (Dense)   (None, 500)               24500     \n",
      "_________________________________________________________________\n",
      "second_hidden_layer (Dense)  (None, 1000)              501000    \n",
      "_________________________________________________________________\n",
      "third_hidden_layer (Dense)   (None, 500)               500500    \n",
      "_________________________________________________________________\n",
      "forth_hidden_layer (Dense)   (None, 250)               125250    \n",
      "_________________________________________________________________\n",
      "fifth_hidden_layer (Dense)   (None, 125)               31375     \n",
      "_________________________________________________________________\n",
      "dense_4 (Dense)              (None, 8)                 1008      \n",
      "=================================================================\n",
      "Total params: 1,183,633\n",
      "Trainable params: 1,183,633\n",
      "Non-trainable params: 0\n",
      "_________________________________________________________________\n",
      "None\n"
     ]
    }
   ],
   "source": [
    "import warnings\n",
    "warnings.filterwarnings(\"ignore\")  # Ignore some warning logs\n",
    "\n",
    "\n",
    "from keras.models import Sequential\n",
    "from keras.layers import Dense, Dropout\n",
    "\n",
    "\n",
    "#  Define a Feed-Forward Model with 2 hidden layers with dimensions 392 and 196 Neurons\n",
    "model_2 = Sequential([\n",
    "  Dense(500, activation='relu', input_shape=(48,), name=\"first_hidden_layer\"),\n",
    "  Dense(1000, activation='relu', name=\"second_hidden_layer\"), \n",
    "  Dense(500,activation= 'relu',name = \"third_hidden_layer\"),\n",
    "  Dense(250,activation= 'relu',name = \"forth_hidden_layer\"),\n",
    "  Dense(125,activation= 'relu',name = \"fifth_hidden_layer\"),\n",
    "  Dense(8, activation='softmax'),\n",
    "])\n",
    "\n",
    "#  Validate your Model Architecture\n",
    "print(model_2.summary())"
   ]
  },
  {
   "cell_type": "code",
   "execution_count": 27,
   "metadata": {},
   "outputs": [
    {
     "name": "stdout",
     "output_type": "stream",
     "text": [
      "Epoch 1/5\n",
      "1449/1449 [==============================] - 7s 5ms/step - loss: 1.6446 - accuracy: 0.5245\n",
      "Epoch 2/5\n",
      "1449/1449 [==============================] - 7s 5ms/step - loss: 1.5713 - accuracy: 0.5252\n",
      "Epoch 3/5\n",
      "1449/1449 [==============================] - 7s 5ms/step - loss: 1.5704 - accuracy: 0.5252\n",
      "Epoch 4/5\n",
      "1449/1449 [==============================] - 7s 5ms/step - loss: 1.5683 - accuracy: 0.5252\n",
      "Epoch 5/5\n",
      "1449/1449 [==============================] - 7s 5ms/step - loss: 1.5683 - accuracy: 0.5252\n"
     ]
    },
    {
     "data": {
      "text/plain": [
       "<keras.callbacks.callbacks.History at 0x218afd40448>"
      ]
     },
     "execution_count": 27,
     "metadata": {},
     "output_type": "execute_result"
    }
   ],
   "source": [
    "# Compile model\n",
    "model_2.compile(optimizer='sgd', loss='categorical_crossentropy',metrics=['accuracy'],)\n",
    "\n",
    "# Train model\n",
    "model_2.fit(X_train, y_train_cat, epochs=5, batch_size=2,)"
   ]
  },
  {
   "cell_type": "code",
   "execution_count": 31,
   "metadata": {},
   "outputs": [
    {
     "name": "stdout",
     "output_type": "stream",
     "text": [
      "182/182 [==============================] - 0s 919us/step\n",
      "181/181 [==============================] - 0s 270us/step\n",
      "Accuracy on Val samples: 0.5109890103340149\n",
      "Accuracy on Test samples: 0.4751381278038025\n"
     ]
    }
   ],
   "source": [
    "# Evaluate your model's performance on the test data\n",
    "performance_val = model_2.evaluate(X_dev, y_dev_cat)\n",
    "performance_test = model_2.evaluate(X_test, y_test_cat)\n",
    "print(\"Accuracy on Val samples: {0}\".format(performance_val[1]))\n",
    "print(\"Accuracy on Test samples: {0}\".format(performance_test[1]))"
   ]
  },
  {
   "cell_type": "code",
   "execution_count": 29,
   "metadata": {},
   "outputs": [],
   "source": [
    "unique_elements, counts_elements = np.unique(Y_raw, return_counts=True)"
   ]
  },
  {
   "cell_type": "code",
   "execution_count": null,
   "metadata": {},
   "outputs": [],
   "source": []
  },
  {
   "cell_type": "code",
   "execution_count": 38,
   "metadata": {},
   "outputs": [
    {
     "name": "stdout",
     "output_type": "stream",
     "text": [
      "all classes =  [0. 1. 2. 3. 4. 5. 6. 7.]\n",
      "Number of times each class appears =  [940 144 144 144 144 144 144   8]\n"
     ]
    }
   ],
   "source": [
    "print(\"all classes = \", unique_elements)\n",
    "print(\"Number of times each class appears = \",counts_elements)"
   ]
  },
  {
   "cell_type": "code",
   "execution_count": 32,
   "metadata": {},
   "outputs": [],
   "source": [
    "from sklearn import tree\n",
    "clf = tree.DecisionTreeClassifier()\n",
    "clf = clf.fit(X_train, Y_train)"
   ]
  },
  {
   "cell_type": "code",
   "execution_count": 34,
   "metadata": {},
   "outputs": [],
   "source": [
    "#tree.plot_tree(clf)"
   ]
  },
  {
   "cell_type": "code",
   "execution_count": 36,
   "metadata": {},
   "outputs": [
    {
     "name": "stdout",
     "output_type": "stream",
     "text": [
      "Accuracy with decision tree approach for validation set =  0.8076923076923077\n"
     ]
    }
   ],
   "source": [
    "y_pred = clf.predict(X_dev)\n",
    "print(\"Accuracy with decision tree approach for validation set = \",accuracy(Y_dev,y_pred))"
   ]
  },
  {
   "cell_type": "code",
   "execution_count": 37,
   "metadata": {},
   "outputs": [
    {
     "name": "stdout",
     "output_type": "stream",
     "text": [
      "Accuracy with decision tree approach for test set =  0.8011049723756906\n"
     ]
    }
   ],
   "source": [
    "y_pred_test = clf.predict(X_test)\n",
    "print(\"Accuracy with decision tree approach for test set = \",accuracy(Y_test,y_pred_test))"
   ]
  },
  {
   "cell_type": "code",
   "execution_count": null,
   "metadata": {},
   "outputs": [],
   "source": []
  }
 ],
 "metadata": {
  "accelerator": "GPU",
  "colab": {
   "collapsed_sections": [],
   "machine_shape": "hm",
   "name": "ML_HW5.ipynb",
   "provenance": []
  },
  "kernelspec": {
   "display_name": "Python 3",
   "language": "python",
   "name": "python3"
  },
  "language_info": {
   "codemirror_mode": {
    "name": "ipython",
    "version": 3
   },
   "file_extension": ".py",
   "mimetype": "text/x-python",
   "name": "python",
   "nbconvert_exporter": "python",
   "pygments_lexer": "ipython3",
   "version": "3.7.4"
  }
 },
 "nbformat": 4,
 "nbformat_minor": 1
}
